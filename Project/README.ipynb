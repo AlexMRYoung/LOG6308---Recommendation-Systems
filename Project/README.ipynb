{
 "cells": [
  {
   "cell_type": "code",
   "execution_count": null,
   "metadata": {
    "collapsed": true
   },
   "outputs": [],
   "source": [
    "import numpy as np\n",
    "import csv\n",
    "from sklearn.preprocessing import MultiLabelBinarizer\n",
    "from scipy.sparse import hstack\n",
    "import pickle as pkl\n",
    "from utils.tokenizer import tokenize_corpus"
   ]
  },
  {
   "cell_type": "code",
   "execution_count": null,
   "metadata": {},
   "outputs": [],
   "source": [
    "def getNames(data):\n",
    "    names = []\n",
    "    if not data:\n",
    "        return names\n",
    "    parsedData = eval(data)\n",
    "    if not parsedData:\n",
    "        return names\n",
    "    for pieceOfInfo in parsedData:\n",
    "        name = pieceOfInfo['name']\n",
    "        names.append(name)\n",
    "    return np.array(names)"
   ]
  },
  {
   "cell_type": "code",
   "execution_count": null,
   "metadata": {},
   "outputs": [],
   "source": [
    "with open('./data/links.csv', 'r', encoding='utf-8', newline='') as f:\n",
    "    reader = csv.reader(f)\n",
    "    next(reader, None)\n",
    "    id_to_movieId = dict()\n",
    "    for line in reader:\n",
    "        try:\n",
    "            id_to_movieId[int(line[2])] = int(line[0])\n",
    "        except:\n",
    "            pass"
   ]
  },
  {
   "cell_type": "code",
   "execution_count": null,
   "metadata": {},
   "outputs": [],
   "source": [
    "with open('./data/movies_metadata.csv', encoding= 'utf-8') as csvFile:\n",
    "    reader = csv.DictReader(csvFile)\n",
    "    i = 0\n",
    "    for row in reader:\n",
    "        dataEmbeded[i, 0] = row['overview']\n",
    "        try:\n",
    "            dataEmbeded[i, 1] = id_to_movieId[int(row['id'])]\n",
    "        except:\n",
    "            pass\n",
    "        dataEmbeded[i, 2] = row['adult'] == 1\n",
    "        dataEmbeded[i, 3] = row['budget']\n",
    "        dataEmbeded[i, 4] = getNames(row['genres'])\n",
    "        dataEmbeded[i, 5] = row['popularity']\n",
    "        dataEmbeded[i, 6] = getNames(row['production_companies'])\n",
    "        dataEmbeded[i, 7] = row['production_countries'] == \"[{'iso_3166_1': 'US', 'name': 'United States of America'}]\"\n",
    "        dataEmbeded[i, 8] = row['revenue']\n",
    "        dataEmbeded[i, 9] = getNames(row['spoken_languages'])\n",
    "        i += 1"
   ]
  },
  {
   "cell_type": "code",
   "execution_count": null,
   "metadata": {},
   "outputs": [],
   "source": [
    "one_hot = MultiLabelBinarizer(sparse_output=True)\n",
    "genres = one_hot.fit_transform(dataEmbeded[:,4])\n",
    "production_companies = one_hot.fit_transform(dataEmbeded[:,6])\n",
    "spoken_languages = one_hot.fit_transform(dataEmbeded[:,9])\n",
    "BoW = tokenize_corpus(dataEmbeded[:,0], stop_words = False, BoW = True)"
   ]
  },
  {
   "cell_type": "code",
   "execution_count": null,
   "metadata": {},
   "outputs": [],
   "source": [
    "data =  hstack([BoW, genres, spoken_languages])\n",
    "with open('./data/data.npy', 'wb') as pikeler:\n",
    "    data = {'ids':dataEmbeded[:, 1], 'data':data}\n",
    "    pkl.dump(data, pikeler)"
   ]
  }
 ],
 "metadata": {
  "kernelspec": {
   "display_name": "Python 3",
   "language": "python",
   "name": "python3"
  },
  "language_info": {
   "codemirror_mode": {
    "name": "ipython",
    "version": 3
   },
   "file_extension": ".py",
   "mimetype": "text/x-python",
   "name": "python",
   "nbconvert_exporter": "python",
   "pygments_lexer": "ipython3",
   "version": "3.6.5"
  }
 },
 "nbformat": 4,
 "nbformat_minor": 1
}
