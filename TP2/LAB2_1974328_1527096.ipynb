{
 "cells": [
  {
   "cell_type": "code",
   "execution_count": 84,
   "metadata": {},
   "outputs": [],
   "source": [
    "import pandas as pd\n",
    "import numpy as np\n",
    "import matplotlib.pyplot as plt\n",
    "\n",
    "m_raw = pd.read_table(\"http://www.groupes.polymtl.ca/log6308/Public/citeseer.rtable\", sep=\" \")\n",
    "m = pd.read_table(\"http://www.groupes.polymtl.ca/log6308/Public/citeseer.rtable\", sep=\" \").values\n",
    "mm = m.dot(m)"
   ]
  },
  {
   "cell_type": "code",
   "execution_count": 16,
   "metadata": {},
   "outputs": [
    {
     "name": "stderr",
     "output_type": "stream",
     "text": [
      "/Users/baptisterocca/Documents/utc/GI05_Montreal/LOG6308 syst.de.recom/venv/lib/python2.7/site-packages/ipykernel_launcher.py:2: RuntimeWarning: invalid value encountered in divide\n",
      "  \n"
     ]
    }
   ],
   "source": [
    "sums = np.sum(m, axis=1).reshape(-1,1)\n",
    "markov = m*1.0 / sums"
   ]
  },
  {
   "cell_type": "code",
   "execution_count": 17,
   "metadata": {},
   "outputs": [
    {
     "name": "stdout",
     "output_type": "stream",
     "text": [
      "[[0.   0.   0.   ... 0.   0.   0.  ]\n",
      " [0.   0.   0.   ... 0.   0.   0.  ]\n",
      " [0.   0.   0.25 ... 0.   0.   0.  ]\n",
      " ...\n",
      " [0.   0.   0.   ... 0.   0.   0.  ]\n",
      " [0.   0.   0.   ... 0.   0.   0.  ]\n",
      " [0.   0.   0.   ... 0.   0.   0.  ]]\n"
     ]
    }
   ],
   "source": [
    "print(markov)"
   ]
  },
  {
   "cell_type": "code",
   "execution_count": 18,
   "metadata": {},
   "outputs": [],
   "source": [
    "def pagerank(M, eps=1.0e-8, d=0.85):\n",
    "    N = M.shape[1]\n",
    "    v = np.random.rand(N, 1)\n",
    "    v = v / np.linalg.norm(v, 1)\n",
    "    last_v = np.ones((N, 1), dtype=np.float32) * 100\n",
    "    M_hat = (d * M) + (((1 - d) / N) * np.ones((N, N), dtype=np.float32))\n",
    "    \n",
    "    while np.linalg.norm(v - last_v, 2) > eps:\n",
    "        last_v = v\n",
    "        v = np.matmul(M_hat, v)\n",
    "    return v"
   ]
  },
  {
   "cell_type": "code",
   "execution_count": 19,
   "metadata": {},
   "outputs": [
    {
     "name": "stdout",
     "output_type": "stream",
     "text": [
      "set([147460, 497542, 98185, 366858, 136975, 155792, 83730, 177173, 466838, 149673, 125089, 28323, 289188, 297641, 496938, 315693, 106034, 83509, 226359, 167226, 468667, 10302, 83263, 322240, 464834, 64835, 17094, 7624, 7099, 78418, 79188, 182742, 181463, 131548, 26170, 19422, 110303, 6497, 3170, 17507, 395364, 3175, 34792, 392298, 304747, 120172, 66285, 3950, 66291, 156791, 124, 139134, 96767])\n"
     ]
    }
   ],
   "source": [
    "index = m_raw.index.get_loc(422908)\n",
    "out_ = np.argwhere(m[index,:]>0)\n",
    "in_ = np.argwhere(m[:,index]>0)\n",
    "total = np.unique(list(in_.flatten())+list(out_.flatten()))\n",
    "\n",
    "pg = pagerank(markov)[total].flatten()\n",
    "indexes = np.argsort(pg)[::-1]\n",
    "indexes = indexes[~np.isnan(pg[indexes])]\n",
    "\n",
    "suggestions_1 = set(m_raw.index[total[indexes]])\n",
    "\n",
    "print(suggestions_1)"
   ]
  },
  {
   "cell_type": "code",
   "execution_count": 20,
   "metadata": {},
   "outputs": [
    {
     "name": "stdout",
     "output_type": "stream",
     "text": [
      "set([140292, 1347, 177173, 147460, 120860, 295968, 134177, 146468, 384037, 32294, 206892, 479277, 157742, 106034, 83509, 226359, 26170, 373307, 10302, 97863, 504401, 78418, 3170, 17507, 395364, 3175, 248936, 392298, 304747, 22638, 156791, 325396, 124, 314502, 155792, 58002, 488607, 125089, 296098, 28323, 149673, 129196, 248596, 468667, 322240, 17094, 181463, 110303, 134881, 425122, 66285, 50929, 66291, 293625, 70908, 366858, 136975, 83730, 103700, 7960, 26913, 164643, 8484, 496938, 315693, 35128, 167226, 149820, 83263, 166209, 64835, 28329, 79188, 426325, 53595, 312156, 167774, 6497, 212842, 120172, 3950, 210287, 139134, 53632, 8069, 497542, 98185, 126858, 155019, 48013, 206738, 10563, 225173, 466838, 289188, 113069, 188852, 449353, 7099, 464834, 313796, 40391, 7624, 63437, 182742, 131548, 19422, 225251, 70445, 34792, 399339, 297641, 429561, 422908, 301565, 96767])\n"
     ]
    }
   ],
   "source": [
    "index = m_raw.index.get_loc(422908)\n",
    "out_ = np.argwhere(mm[index,:]>0)\n",
    "in_ = np.argwhere(mm[:,index]>0)\n",
    "total = np.unique(list(in_.flatten())+list(out_.flatten())+list(total))\n",
    "\n",
    "pg = pagerank(markov)[total].flatten()\n",
    "indexes = np.argsort(pg)[::-1]\n",
    "indexes = indexes[~np.isnan(pg[indexes])]\n",
    "\n",
    "suggestions_2 = set(m_raw.index[total[indexes]])\n",
    "\n",
    "print(suggestions_2)"
   ]
  },
  {
   "cell_type": "code",
   "execution_count": 21,
   "metadata": {},
   "outputs": [
    {
     "name": "stdout",
     "output_type": "stream",
     "text": [
      "set([53632, 17507, 497542, 3175, 149673, 70445, 22638, 155792, 466838, 96767])\n",
      "[0.51449576 0.49507377 0.48507125 0.48507125 0.45834925 0.45834925\n",
      " 0.43386092 0.42874646 0.42008403 0.39605902]\n"
     ]
    }
   ],
   "source": [
    "from sklearn.metrics.pairwise import euclidean_distances, cosine_similarity\n",
    "\n",
    "item = m[index].reshape(1,-1)\n",
    "cosine = cosine_similarity(m,item).reshape(-1)\n",
    "indexes = np.argsort(cosine)[-11:-1][::-1]\n",
    "suggestions_3 = set(m_raw.index[indexes])\n",
    "print(suggestions_3)\n",
    "print(cosine[indexes])"
   ]
  },
  {
   "cell_type": "code",
   "execution_count": 22,
   "metadata": {},
   "outputs": [
    {
     "name": "stdout",
     "output_type": "stream",
     "text": [
      "set([53632, 17094, 497542, 149673, 70445, 155792, 8434, 225173, 466838, 96767])\n"
     ]
    }
   ],
   "source": [
    "euclidean = euclidean_distances(m,item).reshape(-1)\n",
    "indexes = np.argsort(euclidean)[1:11]\n",
    "suggestions_4 = set(m_raw.index[indexes])\n",
    "print(suggestions_4)"
   ]
  },
  {
   "cell_type": "code",
   "execution_count": 23,
   "metadata": {},
   "outputs": [
    {
     "name": "stdout",
     "output_type": "stream",
     "text": [
      "set([147460, 98185, 366858, 136975, 155792, 83730, 177173, 125089, 28323, 289188, 149673, 496938, 106034, 83509, 226359, 167226, 7099, 10302, 83263, 322240, 464834, 64835, 17094, 7624, 156791, 78418, 79188, 181463, 131548, 26170, 6497, 3170, 17507, 395364, 3175, 34792, 392298, 120172, 66285, 3950, 66291, 297641, 124, 139134, 96767])\n"
     ]
    }
   ],
   "source": [
    "print(set(m_raw.index[in_.flatten()]) & suggestions_1)"
   ]
  },
  {
   "cell_type": "code",
   "execution_count": 24,
   "metadata": {},
   "outputs": [
    {
     "name": "stdout",
     "output_type": "stream",
     "text": [
      "set([155792, 149673, 466838, 497542, 96767])\n"
     ]
    }
   ],
   "source": [
    "common = suggestions_1 & suggestions_2 & suggestions_3 & suggestions_4\n",
    "print(common)"
   ]
  },
  {
   "cell_type": "code",
   "execution_count": 152,
   "metadata": {},
   "outputs": [
    {
     "name": "stdout",
     "output_type": "stream",
     "text": [
      "0.666666666667\n",
      "0.583333333333\n",
      "0.5\n",
      "0.25\n",
      "0.25\n",
      "0.0833333333333\n",
      "0.0\n",
      "0.0\n",
      "0.0\n",
      "0.0\n"
     ]
    },
    {
     "data": {
      "image/png": "[encoded data removed]",
      "text/plain": [
       "<Figure size 432x288 with 1 Axes>"
      ]
     },
     "metadata": {
      "needs_background": "light"
     },
     "output_type": "display_data"
    }
   ],
   "source": [
    "ptx, pty = [], []\n",
    "for treshold in np.linspace(0.05,0.95,10):\n",
    "    meanRap, meanPrec, nb = 0,0,0\n",
    "    for i in range(len(m)):\n",
    "        item = m[i].reshape(1,-1)\n",
    "        if np.sum(item) == 0:\n",
    "            continue\n",
    "        \n",
    "        out_ = np.argwhere(m[i,:]>0)\n",
    "        in_ = np.argwhere(m[:,i]>0)\n",
    "        total = np.unique(list(in_.flatten())+list(out_.flatten()))\n",
    "        out_ = np.argwhere(mm[i,:]>0)\n",
    "        in_ = np.argwhere(mm[:,i]>0)\n",
    "        total = np.unique(list(in_.flatten())+list(out_.flatten())+list(total))\n",
    "        goodSuggestions = set(total)\n",
    "        \n",
    "        cosine = cosine_similarity(m,item).reshape(-1)\n",
    "        indexes = np.argwhere(cosine>=treshold).flatten()\n",
    "        ourSuggestions = set(indexes)\n",
    "        \n",
    "        meanPrec += len(goodSuggestions & ourSuggestions)*1.0/len(ourSuggestions)\n",
    "        meanRap += len(goodSuggestions & ourSuggestions)*1.0/len(goodSuggestions)\n",
    "        nb += 1\n",
    "    #print(treshold)\n",
    "    print(len(goodSuggestions & ourSuggestions)*1.0/len(goodSuggestions))\n",
    "    ptx.append(meanRap/nb)\n",
    "    pty.append(meanPrec/nb)\n",
    "      \n",
    "plt.plot(ptx, pty, 'ro')\n",
    "plt.show()"
   ]
  },
  {
   "cell_type": "code",
   "execution_count": 150,
   "metadata": {},
   "outputs": [
    {
     "data": {
      "text/plain": [
       "0.6666666666666666"
      ]
     },
     "execution_count": 150,
     "metadata": {},
     "output_type": "execute_result"
    }
   ],
   "source": []
  },
  {
   "cell_type": "code",
   "execution_count": 149,
   "metadata": {},
   "outputs": [
    {
     "data": {
      "text/plain": [
       "8"
      ]
     },
     "execution_count": 149,
     "metadata": {},
     "output_type": "execute_result"
    }
   ],
   "source": []
  },
  {
   "cell_type": "code",
   "execution_count": null,
   "metadata": {},
   "outputs": [],
   "source": []
  }
 ],
 "metadata": {
  "kernelspec": {
   "display_name": "Python 2",
   "language": "python",
   "name": "python2"
  },
  "language_info": {
   "codemirror_mode": {
    "name": "ipython",
    "version": 2
   },
   "file_extension": ".py",
   "mimetype": "text/x-python",
   "name": "python",
   "nbconvert_exporter": "python",
   "pygments_lexer": "ipython2",
   "version": "2.7.10"
  }
 },
 "nbformat": 4,
 "nbformat_minor": 2
}
