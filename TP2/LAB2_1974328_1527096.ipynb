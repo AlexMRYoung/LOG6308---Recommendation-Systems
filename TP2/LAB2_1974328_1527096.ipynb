{
 "cells": [
  {
   "cell_type": "markdown",
   "metadata": {},
   "source": [
    "# TP2. Techniques de graphes"
   ]
  },
  {
   "cell_type": "code",
   "execution_count": 1,
   "metadata": {},
   "outputs": [],
   "source": [
    "import pandas as pd\n",
    "import numpy as np\n",
    "import matplotlib.pyplot as plt\n",
    "\n",
    "m_raw = pd.read_table(\"http://www.groupes.polymtl.ca/log6308/Public/citeseer.rtable\", sep=\" \")\n",
    "m = pd.read_table(\"http://www.groupes.polymtl.ca/log6308/Public/citeseer.rtable\", sep=\" \").values\n",
    "mm = m.dot(m)"
   ]
  },
  {
   "cell_type": "code",
   "execution_count": 2,
   "metadata": {},
   "outputs": [
    {
     "name": "stderr",
     "output_type": "stream",
     "text": [
      "C:\\ProgramData\\Anaconda3\\lib\\site-packages\\ipykernel_launcher.py:2: RuntimeWarning: invalid value encountered in true_divide\n",
      "  \n"
     ]
    }
   ],
   "source": [
    "sums = np.sum(m, axis=1).reshape(-1,1)\n",
    "markov = m*1.0 / sums"
   ]
  },
  {
   "cell_type": "code",
   "execution_count": 3,
   "metadata": {},
   "outputs": [
    {
     "name": "stdout",
     "output_type": "stream",
     "text": [
      "[[0.   0.   0.   ... 0.   0.   0.  ]\n",
      " [0.   0.   0.   ... 0.   0.   0.  ]\n",
      " [0.   0.   0.25 ... 0.   0.   0.  ]\n",
      " ...\n",
      " [0.   0.   0.   ... 0.   0.   0.  ]\n",
      " [0.   0.   0.   ... 0.   0.   0.  ]\n",
      " [0.   0.   0.   ... 0.   0.   0.  ]]\n"
     ]
    }
   ],
   "source": [
    "print(markov)"
   ]
  },
  {
   "cell_type": "markdown",
   "metadata": {},
   "source": [
    "## Approche par PageRank"
   ]
  },
  {
   "cell_type": "code",
   "execution_count": 4,
   "metadata": {},
   "outputs": [],
   "source": [
    "def pagerank(M, eps=1.0e-8, d=0.85):\n",
    "    N = M.shape[1]\n",
    "    # create a random state\n",
    "    v = np.random.rand(N, 1)\n",
    "    v = v / np.linalg.norm(v, 1)\n",
    "    oldV = np.zeros((N, 1))\n",
    "    M_chap = (d * M) + (((1 - d) / N) * np.ones((N, N)))\n",
    "    \n",
    "    while np.linalg.norm(v - oldV, 2) > eps:\n",
    "        oldV = v\n",
    "        v = np.matmul(M_chap, v)\n",
    "    return v"
   ]
  },
  {
   "cell_type": "markdown",
   "metadata": {},
   "source": [
    "Nous allons conseiller les articles pointants vers notre article ainsi que les articles vers lesquels le notre pointe. De plus pour ordoner les résultats, nous allons faire un PageRank sur les articles recommandés de manière à avoir un PageRank spécifique au domaine."
   ]
  },
  {
   "cell_type": "code",
   "execution_count": 5,
   "metadata": {},
   "outputs": [
    {
     "name": "stdout",
     "output_type": "stream",
     "text": [
      "{147460, 497542, 98185, 366858, 136975, 155792, 83730, 177173, 466838, 125089, 28323, 289188, 149673, 496938, 297641, 315693, 106034, 83509, 226359, 167226, 468667, 7099, 26170, 10302, 83263, 322240, 464834, 64835, 17094, 7624, 78418, 79188, 182742, 181463, 131548, 19422, 110303, 6497, 3170, 17507, 395364, 3175, 34792, 392298, 304747, 120172, 66285, 3950, 66291, 156791, 124, 139134, 96767}\n"
     ]
    }
   ],
   "source": [
    "index = m_raw.index.get_loc(422908)\n",
    "out_ = np.argwhere(m[index,:]>0)\n",
    "in_ = np.argwhere(m[:,index]>0)\n",
    "total = np.unique(list(in_.flatten())+list(out_.flatten()))\n",
    "\n",
    "pg = pagerank(markov[:,total][total,:]).flatten()\n",
    "indexes = np.argsort(pg)[::-1]\n",
    "indexes = indexes[~np.isnan(pg[indexes])]\n",
    "\n",
    "suggestions_1 = set(m_raw.index[total[indexes]])\n",
    "\n",
    "print(suggestions_1)"
   ]
  },
  {
   "cell_type": "markdown",
   "metadata": {},
   "source": [
    "Nous allons mainenant passer à une approche ne prenant pas en compte un seul pas mais deux de manière à étendre nos recommendations. La méthodologie reste sensiblement la même."
   ]
  },
  {
   "cell_type": "code",
   "execution_count": 6,
   "metadata": {},
   "outputs": [
    {
     "name": "stdout",
     "output_type": "stream",
     "text": [
      "{147460, 140292, 177173, 120860, 295968, 134177, 146468, 384037, 32294, 206892, 479277, 157742, 106034, 83509, 226359, 26170, 373307, 10302, 97863, 504401, 78418, 3170, 17507, 395364, 3175, 248936, 392298, 304747, 22638, 156791, 124, 314502, 155792, 58002, 488607, 125089, 425122, 28323, 296098, 28329, 149673, 297641, 129196, 468667, 322240, 17094, 181463, 110303, 134881, 66285, 50929, 66291, 293625, 70908, 366858, 136975, 83730, 103700, 248596, 325396, 7960, 26913, 164643, 8484, 496938, 315693, 70445, 35128, 167226, 149820, 83263, 166209, 1347, 64835, 10563, 449353, 79188, 426325, 53595, 312156, 167774, 6497, 212842, 120172, 3950, 210287, 139134, 53632, 8069, 497542, 98185, 126858, 155019, 48013, 206738, 225173, 466838, 289188, 113069, 188852, 7099, 464834, 313796, 40391, 7624, 63437, 182742, 131548, 19422, 225251, 34792, 399339, 429561, 422908, 301565, 96767}\n"
     ]
    }
   ],
   "source": [
    "index = m_raw.index.get_loc(422908)\n",
    "out_ = np.argwhere(mm[index,:]>0)\n",
    "in_ = np.argwhere(mm[:,index]>0)\n",
    "total = np.unique(list(in_.flatten())+list(out_.flatten())+list(total))\n",
    "\n",
    "pg = pagerank(markov[:,total][total,:]).flatten()\n",
    "indexes = np.argsort(pg)[::-1]\n",
    "indexes = indexes[~np.isnan(pg[indexes])]\n",
    "\n",
    "suggestions_2 = set(m_raw.index[total[indexes]])\n",
    "\n",
    "print(suggestions_2)"
   ]
  },
  {
   "cell_type": "markdown",
   "metadata": {},
   "source": [
    "## Approche Item-Item"
   ]
  },
  {
   "cell_type": "markdown",
   "metadata": {},
   "source": [
    "### Cosine\n",
    "\n",
    "Nous allons conseiller les 10 articles les plus proche par rapport à la mesure de similarité que représente le cosinus."
   ]
  },
  {
   "cell_type": "code",
   "execution_count": 7,
   "metadata": {},
   "outputs": [
    {
     "name": "stdout",
     "output_type": "stream",
     "text": [
      "{53632, 17507, 497542, 3175, 149673, 70445, 22638, 155792, 466838, 96767}\n",
      "[0.51449576 0.49507377 0.48507125 0.48507125 0.45834925 0.45834925\n",
      " 0.43386092 0.42874646 0.42008403 0.39605902]\n"
     ]
    }
   ],
   "source": [
    "from sklearn.metrics.pairwise import euclidean_distances, cosine_similarity\n",
    "\n",
    "item = m[index].reshape(1,-1)\n",
    "cosine = cosine_similarity(m,item).reshape(-1)\n",
    "indexes = np.argsort(cosine)[-11:-1][::-1]\n",
    "suggestions_3 = set(m_raw.index[indexes])\n",
    "print(suggestions_3)\n",
    "print(cosine[indexes])"
   ]
  },
  {
   "cell_type": "markdown",
   "metadata": {},
   "source": [
    "### Euclidien\n",
    "\n",
    "Nous allons conseiller les 10 articles les plus proche par rapport à la mesure de similarité que représente la distance euclidienne."
   ]
  },
  {
   "cell_type": "code",
   "execution_count": 8,
   "metadata": {},
   "outputs": [
    {
     "name": "stdout",
     "output_type": "stream",
     "text": [
      "{53632, 497542, 17094, 149673, 70445, 155792, 8434, 225173, 466838, 96767}\n"
     ]
    }
   ],
   "source": [
    "euclidean = euclidean_distances(m,item).reshape(-1)\n",
    "indexes = np.argsort(euclidean)[1:11]\n",
    "suggestions_4 = set(m_raw.index[indexes])\n",
    "print(suggestions_4)"
   ]
  },
  {
   "cell_type": "markdown",
   "metadata": {},
   "source": [
    "## Interprétation des résultats"
   ]
  },
  {
   "cell_type": "code",
   "execution_count": 9,
   "metadata": {},
   "outputs": [
    {
     "name": "stdout",
     "output_type": "stream",
     "text": [
      "{147460, 497542, 98185, 366858, 136975, 155792, 83730, 177173, 466838, 125089, 28323, 289188, 149673, 496938, 297641, 315693, 106034, 83509, 226359, 167226, 468667, 7099, 26170, 10302, 83263, 322240, 464834, 64835, 17094, 7624, 78418, 79188, 182742, 181463, 131548, 19422, 110303, 6497, 3170, 17507, 395364, 3175, 34792, 392298, 304747, 120172, 66285, 3950, 66291, 156791, 124, 139134, 96767}\n"
     ]
    }
   ],
   "source": [
    "print(suggestions_1)"
   ]
  },
  {
   "cell_type": "markdown",
   "metadata": {},
   "source": [
    "Dans ces résultats, nous avons des articles écris pas des auteurs commun (497542) et d'autre qui ne le sont pas. Nous avons vérifié les 5 premier articles qui semble en effet liés au notre. En effet tous les articles semble parler des automates et des systeme temps réel."
   ]
  },
  {
   "cell_type": "code",
   "execution_count": 10,
   "metadata": {},
   "outputs": [
    {
     "name": "stdout",
     "output_type": "stream",
     "text": [
      "{53632, 140292, 8069, 314502, 126858, 155019, 422908, 48013, 58002, 206738, 103700, 248596, 325396, 225173, 7960, 120860, 488607, 295968, 134177, 425122, 296098, 146468, 384037, 32294, 26913, 164643, 28329, 8484, 206892, 479277, 157742, 129196, 70445, 113069, 188852, 35128, 373307, 149820, 166209, 1347, 10563, 313796, 97863, 40391, 449353, 63437, 429561, 504401, 426325, 53595, 312156, 167774, 134881, 225251, 248936, 212842, 399339, 22638, 210287, 50929, 293625, 70908, 301565}\n"
     ]
    }
   ],
   "source": [
    "print(suggestions_2.difference(suggestions_1))"
   ]
  },
  {
   "cell_type": "markdown",
   "metadata": {},
   "source": [
    "Nous n'allons ici que verifier la validité de l'ajout d'un pas dans notre algorithme de recommendation en nous assurant qu'ajouter un pas ne rend pas les suggestions moins bonne. Ici encore nous n'avons regardé que les 5 premiere suggestion. Ce qui nous saute au yeux est tout d'abord que les articles suggeré sont beaucoup moins proche de l'article de base. Il n'est plus directement question d'automates et des systeme temps reel. Cependant, les articles tel que celui sur la vérification de model symbolique de systeme a état infinis semblent pertinent. En effet, tout les articles que nous avons vu semble présenter une facette commune avec notre article de base. C'est souvent la validité d'un des outils mathématique employé dans notre article de base ou dans ces articles directement similaire qui y est traité."
   ]
  },
  {
   "cell_type": "code",
   "execution_count": 11,
   "metadata": {
    "scrolled": true
   },
   "outputs": [
    {
     "name": "stdout",
     "output_type": "stream",
     "text": [
      "{53632, 17507, 497542, 3175, 149673, 70445, 22638, 155792, 466838, 96767}\n"
     ]
    }
   ],
   "source": [
    "print(suggestions_3)"
   ]
  },
  {
   "cell_type": "markdown",
   "metadata": {},
   "source": [
    "Nous notons ici que tout les résultat de cette approche sont présents dans l'approche n°2. En effet il n'est aucun article dans suggestions_3 qui n'est pas présent dans suggestions_2. Nous avons tout de même regardé les premier articles que nous n'avions pas lu lors des vérifications précédente et y avons trouvé des articles sur les automates(497542) et sur le raisonement temps-réel (3175). Tout ces résultats semble acceptable. Nous n'avons cependant retiré que 10 articles pour le moment."
   ]
  },
  {
   "cell_type": "code",
   "execution_count": 12,
   "metadata": {
    "scrolled": true
   },
   "outputs": [
    {
     "name": "stdout",
     "output_type": "stream",
     "text": [
      "{53632, 497542, 17094, 149673, 70445, 155792, 8434, 225173, 466838, 96767}\n"
     ]
    }
   ],
   "source": [
    "print(suggestions_4)"
   ]
  },
  {
   "cell_type": "markdown",
   "metadata": {},
   "source": [
    "Nous notons ici que tout les résultat de cette approche sont présents dans l'approche n°2 sauf pour l'article n°8434. Nous allons donc vérifier si cet ajout est pertinent. Cet article traite des diagrammes états-transitions. Cette recommendation n'est pas dénuée de sens mais semble tout de même moins pertinente que les recommendation approtée par l'approche du cosinus. C'est donc cette approche que nous tenteront d'optimiser avec la cross validation."
   ]
  },
  {
   "cell_type": "code",
   "execution_count": 13,
   "metadata": {},
   "outputs": [
    {
     "name": "stdout",
     "output_type": "stream",
     "text": [
      "{497542, 149673, 155792, 466838, 96767}\n"
     ]
    }
   ],
   "source": [
    "common = suggestions_1 & suggestions_2 & suggestions_3 & suggestions_4\n",
    "print(common)"
   ]
  },
  {
   "cell_type": "markdown",
   "metadata": {},
   "source": [
    "Nous voulions voir quels articles resortaient dans toutes les suggestion et avons donc tenté de regrouper toute ces méthodes. Nous y trouvons des articles tel que \"Model-Checking in Dense Real-time\" et \"Compiling Real-Time Specifications into Extended Automata\" qui sont directement en lien avec notre article de base mais aussi des articles tel que \"Back to the Future: Towards a Theory of Timed Regular Languages\", \"Sooner is Safer than Later\", \"Marked Point Models for Facies Units Conditioned on Well Data\" dont le recoupement avec notre article est plus exotique. Nous noterons toutefois que cet état de fait est particulièrement interessant car, comme nous l'avons vu en cours, il est nécessaire pour faire de bonne recommendation d'avoir des recommendation variées."
   ]
  },
  {
   "cell_type": "markdown",
   "metadata": {},
   "source": [
    "## La cross-validation au service de l'approche Item-Item\n",
    "\n",
    "Nous n'allons maintenant plus prendre un nombre fixe de voisin mais allons chercher par cross-validation la limite à partir de laquelle deux article seront considérés comme proche au sens du cosinus."
   ]
  },
  {
   "cell_type": "code",
   "execution_count": 15,
   "metadata": {},
   "outputs": [
    {
     "data": {
      "image/png": "[encoded data removed]",
      "text/plain": [
       "<Figure size 1440x720 with 1 Axes>"
      ]
     },
     "metadata": {},
     "output_type": "display_data"
    }
   ],
   "source": [
    "ptx, pty = [], []\n",
    "tresholds = np.linspace(0.05,0.95,10)\n",
    "for treshold in tresholds:\n",
    "    meanRap, meanPrec, nb = 0,0,0\n",
    "    for i in range(len(m)):\n",
    "        item = m[i].reshape(1,-1)\n",
    "        if np.sum(item) == 0:\n",
    "            continue\n",
    "        \n",
    "        out_ = np.argwhere(m[i,:]>0)\n",
    "        in_ = np.argwhere(m[:,i]>0)\n",
    "        total = np.unique(list(in_.flatten())+list(out_.flatten()))\n",
    "        out_ = np.argwhere(mm[i,:]>0)\n",
    "        in_ = np.argwhere(mm[:,i]>0)\n",
    "        total = np.unique(list(in_.flatten())+list(out_.flatten())+list(total))\n",
    "        goodSuggestions = set(total)\n",
    "        \n",
    "        cosine = cosine_similarity(m,item).reshape(-1)\n",
    "        indexes = np.argwhere(cosine>=treshold).flatten()\n",
    "        ourSuggestions = set(indexes)\n",
    "        \n",
    "        meanPrec += len(goodSuggestions & ourSuggestions)*1.0/len(ourSuggestions)\n",
    "        meanRap += len(goodSuggestions & ourSuggestions)*1.0/len(goodSuggestions)\n",
    "        nb += 1\n",
    "    #print(treshold)\n",
    "    #print(len(goodSuggestions & ourSuggestions)*1.0/len(goodSuggestions))\n",
    "    ptx.append(meanRap/nb)\n",
    "    pty.append(meanPrec/nb)\n",
    "   \n",
    "plt.figure(figsize=(20,10))\n",
    "plt.plot(tresholds, ptx, 'bo')\n",
    "plt.plot(tresholds, pty, 'ro')\n",
    "plt.legend(['Rappel moyen', 'Précision moyenne'])\n",
    "plt.xlabel('Valeur maximale de cosine acceptée')\n",
    "plt.ylabel('Rappel/Precision')\n",
    "plt.show()"
   ]
  },
  {
   "cell_type": "markdown",
   "metadata": {},
   "source": [
    "Nous voyons ici que nous devrons considérer deux article comme proche lorsque le cosinus entre ces deux articles sera inferieur supperieur à 0.45 pour un précision moyenne de 24% et un rappel moyen de 12%. Ces résultats ne sont pas très haut ce qui nous laisse penser que l'approche item-item n'est pas la plus interessante pour ce genre de dataset. notons que les articles considérés comme bonne réponse sont ceux présent \"à deux pas\" du notre."
   ]
  }
 ],
 "metadata": {
  "kernelspec": {
   "display_name": "Python 3",
   "language": "python",
   "name": "python3"
  },
  "language_info": {
   "codemirror_mode": {
    "name": "ipython",
    "version": 3
   },
   "file_extension": ".py",
   "mimetype": "text/x-python",
   "name": "python",
   "nbconvert_exporter": "python",
   "pygments_lexer": "ipython3",
   "version": "3.6.5"
  }
 },
 "nbformat": 4,
 "nbformat_minor": 2
}
